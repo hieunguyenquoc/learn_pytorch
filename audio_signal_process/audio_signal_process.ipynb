{
 "cells": [
  {
   "cell_type": "markdown",
   "metadata": {},
   "source": [
    "## Install library"
   ]
  },
  {
   "cell_type": "code",
   "execution_count": 4,
   "metadata": {},
   "outputs": [
    {
     "name": "stdout",
     "output_type": "stream",
     "text": [
      "Requirement already satisfied: librosa in d:\\anaconda\\envs\\python3.8\\lib\\site-packages (0.10.1)\n",
      "Requirement already satisfied: audioread>=2.1.9 in d:\\anaconda\\envs\\python3.8\\lib\\site-packages (from librosa) (3.0.0)\n",
      "Requirement already satisfied: numpy!=1.22.0,!=1.22.1,!=1.22.2,>=1.20.3 in d:\\anaconda\\envs\\python3.8\\lib\\site-packages (from librosa) (1.24.3)\n",
      "Requirement already satisfied: scipy>=1.2.0 in d:\\anaconda\\envs\\python3.8\\lib\\site-packages (from librosa) (1.10.1)\n",
      "Requirement already satisfied: scikit-learn>=0.20.0 in d:\\anaconda\\envs\\python3.8\\lib\\site-packages (from librosa) (1.2.2)\n",
      "Requirement already satisfied: joblib>=0.14 in d:\\anaconda\\envs\\python3.8\\lib\\site-packages (from librosa) (1.3.2)\n",
      "Requirement already satisfied: decorator>=4.3.0 in d:\\anaconda\\envs\\python3.8\\lib\\site-packages (from librosa) (4.4.2)\n",
      "Requirement already satisfied: numba>=0.51.0 in d:\\anaconda\\envs\\python3.8\\lib\\site-packages (from librosa) (0.57.1)\n",
      "Requirement already satisfied: soundfile>=0.12.1 in d:\\anaconda\\envs\\python3.8\\lib\\site-packages (from librosa) (0.12.1)\n",
      "Requirement already satisfied: pooch>=1.0 in d:\\anaconda\\envs\\python3.8\\lib\\site-packages (from librosa) (1.7.0)\n",
      "Requirement already satisfied: soxr>=0.3.2 in d:\\anaconda\\envs\\python3.8\\lib\\site-packages (from librosa) (0.3.6)\n",
      "Requirement already satisfied: typing-extensions>=4.1.1 in d:\\anaconda\\envs\\python3.8\\lib\\site-packages (from librosa) (4.5.0)\n",
      "Requirement already satisfied: lazy-loader>=0.1 in d:\\anaconda\\envs\\python3.8\\lib\\site-packages (from librosa) (0.3)\n",
      "Requirement already satisfied: msgpack>=1.0 in d:\\anaconda\\envs\\python3.8\\lib\\site-packages (from librosa) (1.0.5)\n",
      "Requirement already satisfied: llvmlite<0.41,>=0.40.0dev0 in d:\\anaconda\\envs\\python3.8\\lib\\site-packages (from numba>=0.51.0->librosa) (0.40.1)\n",
      "Requirement already satisfied: importlib-metadata in d:\\anaconda\\envs\\python3.8\\lib\\site-packages (from numba>=0.51.0->librosa) (6.8.0)\n",
      "Requirement already satisfied: platformdirs>=2.5.0 in d:\\anaconda\\envs\\python3.8\\lib\\site-packages (from pooch>=1.0->librosa) (3.10.0)\n",
      "Requirement already satisfied: packaging>=20.0 in d:\\anaconda\\envs\\python3.8\\lib\\site-packages (from pooch>=1.0->librosa) (23.1)\n",
      "Requirement already satisfied: requests>=2.19.0 in d:\\anaconda\\envs\\python3.8\\lib\\site-packages (from pooch>=1.0->librosa) (2.31.0)\n",
      "Requirement already satisfied: threadpoolctl>=2.0.0 in d:\\anaconda\\envs\\python3.8\\lib\\site-packages (from scikit-learn>=0.20.0->librosa) (3.2.0)\n",
      "Requirement already satisfied: cffi>=1.0 in d:\\anaconda\\envs\\python3.8\\lib\\site-packages (from soundfile>=0.12.1->librosa) (1.15.1)\n",
      "Requirement already satisfied: pycparser in d:\\anaconda\\envs\\python3.8\\lib\\site-packages (from cffi>=1.0->soundfile>=0.12.1->librosa) (2.21)\n",
      "Requirement already satisfied: charset-normalizer<4,>=2 in d:\\anaconda\\envs\\python3.8\\lib\\site-packages (from requests>=2.19.0->pooch>=1.0->librosa) (3.2.0)\n",
      "Requirement already satisfied: idna<4,>=2.5 in d:\\anaconda\\envs\\python3.8\\lib\\site-packages (from requests>=2.19.0->pooch>=1.0->librosa) (3.4)\n",
      "Requirement already satisfied: urllib3<3,>=1.21.1 in d:\\anaconda\\envs\\python3.8\\lib\\site-packages (from requests>=2.19.0->pooch>=1.0->librosa) (1.26.16)\n",
      "Requirement already satisfied: certifi>=2017.4.17 in d:\\anaconda\\envs\\python3.8\\lib\\site-packages (from requests>=2.19.0->pooch>=1.0->librosa) (2023.7.22)\n",
      "Requirement already satisfied: zipp>=0.5 in d:\\anaconda\\envs\\python3.8\\lib\\site-packages (from importlib-metadata->numba>=0.51.0->librosa) (3.16.2)\n",
      "Requirement already satisfied: scipy in d:\\anaconda\\envs\\python3.8\\lib\\site-packages (1.10.1)\n",
      "Requirement already satisfied: numpy<1.27.0,>=1.19.5 in d:\\anaconda\\envs\\python3.8\\lib\\site-packages (from scipy) (1.24.3)\n",
      "Requirement already satisfied: torchaudio in d:\\anaconda\\envs\\python3.8\\lib\\site-packages (2.0.2)\n",
      "Requirement already satisfied: torch==2.0.1 in d:\\anaconda\\envs\\python3.8\\lib\\site-packages (from torchaudio) (2.0.1)\n",
      "Requirement already satisfied: filelock in d:\\anaconda\\envs\\python3.8\\lib\\site-packages (from torch==2.0.1->torchaudio) (3.12.2)\n",
      "Requirement already satisfied: typing-extensions in d:\\anaconda\\envs\\python3.8\\lib\\site-packages (from torch==2.0.1->torchaudio) (4.5.0)\n",
      "Requirement already satisfied: sympy in d:\\anaconda\\envs\\python3.8\\lib\\site-packages (from torch==2.0.1->torchaudio) (1.12)\n",
      "Requirement already satisfied: networkx in d:\\anaconda\\envs\\python3.8\\lib\\site-packages (from torch==2.0.1->torchaudio) (3.1)\n",
      "Requirement already satisfied: jinja2 in d:\\anaconda\\envs\\python3.8\\lib\\site-packages (from torch==2.0.1->torchaudio) (3.1.2)\n",
      "Requirement already satisfied: MarkupSafe>=2.0 in d:\\anaconda\\envs\\python3.8\\lib\\site-packages (from jinja2->torch==2.0.1->torchaudio) (2.1.3)\n",
      "Requirement already satisfied: mpmath>=0.19 in d:\\anaconda\\envs\\python3.8\\lib\\site-packages (from sympy->torch==2.0.1->torchaudio) (1.3.0)\n"
     ]
    }
   ],
   "source": [
    "!pip install librosa\n",
    "!pip install scipy\n",
    "!pip install torchaudio"
   ]
  },
  {
   "cell_type": "markdown",
   "metadata": {},
   "source": [
    "## Check sample rate of audio"
   ]
  },
  {
   "cell_type": "code",
   "execution_count": 24,
   "metadata": {},
   "outputs": [
    {
     "name": "stdout",
     "output_type": "stream",
     "text": [
      "Sample : torch.Size([1, 146100])\n",
      "Sample rate : 44100\n",
      "53007\n",
      "16000\n"
     ]
    }
   ],
   "source": [
    "import torchaudio\n",
    "import librosa\n",
    "\n",
    "audio_file = \"D:/my_project/learn_pytorch/audio_signal_process/data/chao_mung_den_voi_he_thong_vos_100723032349.wav\"\n",
    "sample, sample_rate = torchaudio.load(audio_file)\n",
    "print(\"Sample :\", sample.shape) #số sample trên một audio file = thời gian * sample rate\n",
    "print(\"Sample rate :\", sample_rate)\n",
    "\n",
    "y, s = librosa.load(audio_file, sr=16000) #chuyển sample rate của audio\n",
    "print(len(y))\n",
    "print(s)\n"
   ]
  }
 ],
 "metadata": {
  "kernelspec": {
   "display_name": "python3.8",
   "language": "python",
   "name": "python3"
  },
  "language_info": {
   "codemirror_mode": {
    "name": "ipython",
    "version": 3
   },
   "file_extension": ".py",
   "mimetype": "text/x-python",
   "name": "python",
   "nbconvert_exporter": "python",
   "pygments_lexer": "ipython3",
   "version": "3.8.17"
  }
 },
 "nbformat": 4,
 "nbformat_minor": 2
}
